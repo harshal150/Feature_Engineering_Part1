{
  "cells": [
    {
      "cell_type": "markdown",
      "id": "31ebdb68-4971-4e52-a97a-ad95c8c6c7a3",
      "metadata": {
        "id": "31ebdb68-4971-4e52-a97a-ad95c8c6c7a3"
      },
      "source": [
        "## Imbalanced Dataset Handling\n",
        "1. Upsampling\n",
        "2. Down Sampling"
      ]
    },
    {
      "cell_type": "code",
      "execution_count": null,
      "id": "e5a40cb7-0144-447b-b491-d57d84b25624",
      "metadata": {
        "id": "e5a40cb7-0144-447b-b491-d57d84b25624"
      },
      "outputs": [],
      "source": [
        "import numpy as np\n",
        "import pandas as pd"
      ]
    },
    {
      "cell_type": "code",
      "execution_count": null,
      "id": "284618f1-03a0-48c7-bb52-2494ddcd70cb",
      "metadata": {
        "id": "284618f1-03a0-48c7-bb52-2494ddcd70cb"
      },
      "outputs": [],
      "source": [
        "# Set the random seed for reproducibility\n",
        "np.random.seed(123)\n",
        "\n",
        "# Create a dataframe with two classes\n",
        "n_samples = 1000\n",
        "class_0_ratio = 0.9\n",
        "n_class_0 = int(n_samples * class_0_ratio)\n",
        "n_class_1 = n_samples - n_class_0"
      ]
    },
    {
      "cell_type": "code",
      "execution_count": null,
      "id": "8fcbe637-3dae-4b7f-a0bf-5994b4eac55b",
      "metadata": {
        "id": "8fcbe637-3dae-4b7f-a0bf-5994b4eac55b",
        "outputId": "bd6eca84-c18b-43b6-ebb7-1d9b5774005d"
      },
      "outputs": [
        {
          "data": {
            "text/plain": [
              "(900, 100)"
            ]
          },
          "execution_count": 4,
          "metadata": {},
          "output_type": "execute_result"
        }
      ],
      "source": [
        "n_class_0,n_class_1"
      ]
    },
    {
      "cell_type": "code",
      "execution_count": null,
      "id": "f136e351-3fba-4a15-8c00-d0fe1d8947d5",
      "metadata": {
        "id": "f136e351-3fba-4a15-8c00-d0fe1d8947d5"
      },
      "outputs": [],
      "source": [
        "class_0 = pd.DataFrame({\n",
        "    'feature_1': np.random.normal(loc=0, scale=1, size=n_class_0),\n",
        "    'feature_2': np.random.normal(loc=0, scale=1, size=n_class_0),\n",
        "    'target': [0] * n_class_0\n",
        "})\n",
        "\n",
        "class_1 = pd.DataFrame({\n",
        "    'feature_1': np.random.normal(loc=2, scale=1, size=n_class_1),\n",
        "    'feature_2': np.random.normal(loc=2, scale=1, size=n_class_1),\n",
        "    'target': [1] * n_class_1\n",
        "})"
      ]
    },
    {
      "cell_type": "code",
      "execution_count": null,
      "id": "fe266946-d655-4ac1-8aa5-3f8b6b1461cd",
      "metadata": {
        "id": "fe266946-d655-4ac1-8aa5-3f8b6b1461cd"
      },
      "outputs": [],
      "source": [
        "df=pd.concat([class_0,class_1]).reset_index(drop=True)"
      ]
    },
    {
      "cell_type": "code",
      "execution_count": null,
      "id": "ce65e659-8073-44f5-b597-74745bb82a66",
      "metadata": {
        "id": "ce65e659-8073-44f5-b597-74745bb82a66",
        "outputId": "e77d4d9b-71e4-4886-8e87-da0250da61a9"
      },
      "outputs": [
        {
          "data": {
            "text/html": [
              "<div>\n",
              "<style scoped>\n",
              "    .dataframe tbody tr th:only-of-type {\n",
              "        vertical-align: middle;\n",
              "    }\n",
              "\n",
              "    .dataframe tbody tr th {\n",
              "        vertical-align: top;\n",
              "    }\n",
              "\n",
              "    .dataframe thead th {\n",
              "        text-align: right;\n",
              "    }\n",
              "</style>\n",
              "<table border=\"1\" class=\"dataframe\">\n",
              "  <thead>\n",
              "    <tr style=\"text-align: right;\">\n",
              "      <th></th>\n",
              "      <th>feature_1</th>\n",
              "      <th>feature_2</th>\n",
              "      <th>target</th>\n",
              "    </tr>\n",
              "  </thead>\n",
              "  <tbody>\n",
              "    <tr>\n",
              "      <th>0</th>\n",
              "      <td>-1.085631</td>\n",
              "      <td>0.551302</td>\n",
              "      <td>0</td>\n",
              "    </tr>\n",
              "    <tr>\n",
              "      <th>1</th>\n",
              "      <td>0.997345</td>\n",
              "      <td>0.419589</td>\n",
              "      <td>0</td>\n",
              "    </tr>\n",
              "    <tr>\n",
              "      <th>2</th>\n",
              "      <td>0.282978</td>\n",
              "      <td>1.815652</td>\n",
              "      <td>0</td>\n",
              "    </tr>\n",
              "    <tr>\n",
              "      <th>3</th>\n",
              "      <td>-1.506295</td>\n",
              "      <td>-0.252750</td>\n",
              "      <td>0</td>\n",
              "    </tr>\n",
              "    <tr>\n",
              "      <th>4</th>\n",
              "      <td>-0.578600</td>\n",
              "      <td>-0.292004</td>\n",
              "      <td>0</td>\n",
              "    </tr>\n",
              "  </tbody>\n",
              "</table>\n",
              "</div>"
            ],
            "text/plain": [
              "   feature_1  feature_2  target\n",
              "0  -1.085631   0.551302       0\n",
              "1   0.997345   0.419589       0\n",
              "2   0.282978   1.815652       0\n",
              "3  -1.506295  -0.252750       0\n",
              "4  -0.578600  -0.292004       0"
            ]
          },
          "execution_count": 8,
          "metadata": {},
          "output_type": "execute_result"
        }
      ],
      "source": [
        "df.head()"
      ]
    },
    {
      "cell_type": "code",
      "execution_count": null,
      "id": "accd5746-29f1-47e0-9d25-ad5f7a5e69fe",
      "metadata": {
        "id": "accd5746-29f1-47e0-9d25-ad5f7a5e69fe",
        "outputId": "d9357b1c-77cf-4212-9e27-db07c183fa12"
      },
      "outputs": [
        {
          "data": {
            "text/plain": [
              "0    900\n",
              "1    100\n",
              "Name: target, dtype: int64"
            ]
          },
          "execution_count": 9,
          "metadata": {},
          "output_type": "execute_result"
        }
      ],
      "source": [
        "df['target'].value_counts()"
      ]
    },
    {
      "cell_type": "markdown",
      "id": "2cdd2769-c81e-4c55-b0d8-e761b2625369",
      "metadata": {
        "id": "2cdd2769-c81e-4c55-b0d8-e761b2625369"
      },
      "source": [
        "## Upsampling"
      ]
    },
    {
      "cell_type": "code",
      "execution_count": null,
      "id": "73bd2041-9252-4be5-8176-c43288b7c4e3",
      "metadata": {
        "id": "73bd2041-9252-4be5-8176-c43288b7c4e3"
      },
      "outputs": [],
      "source": [
        "df_minority=df[df['target']==1]\n",
        "df_majority=df[df['target']==0]"
      ]
    },
    {
      "cell_type": "code",
      "execution_count": null,
      "id": "21fc402a-da41-4555-a281-36be81c9123f",
      "metadata": {
        "id": "21fc402a-da41-4555-a281-36be81c9123f",
        "outputId": "5d810852-aa7e-4e7d-8025-b6152475e008"
      },
      "outputs": [
        {
          "data": {
            "text/html": [
              "<div>\n",
              "<style scoped>\n",
              "    .dataframe tbody tr th:only-of-type {\n",
              "        vertical-align: middle;\n",
              "    }\n",
              "\n",
              "    .dataframe tbody tr th {\n",
              "        vertical-align: top;\n",
              "    }\n",
              "\n",
              "    .dataframe thead th {\n",
              "        text-align: right;\n",
              "    }\n",
              "</style>\n",
              "<table border=\"1\" class=\"dataframe\">\n",
              "  <thead>\n",
              "    <tr style=\"text-align: right;\">\n",
              "      <th></th>\n",
              "      <th>feature_1</th>\n",
              "      <th>feature_2</th>\n",
              "      <th>target</th>\n",
              "    </tr>\n",
              "  </thead>\n",
              "  <tbody>\n",
              "    <tr>\n",
              "      <th>900</th>\n",
              "      <td>1.699768</td>\n",
              "      <td>2.139033</td>\n",
              "      <td>1</td>\n",
              "    </tr>\n",
              "    <tr>\n",
              "      <th>901</th>\n",
              "      <td>1.367739</td>\n",
              "      <td>2.025577</td>\n",
              "      <td>1</td>\n",
              "    </tr>\n",
              "    <tr>\n",
              "      <th>902</th>\n",
              "      <td>1.795683</td>\n",
              "      <td>1.803557</td>\n",
              "      <td>1</td>\n",
              "    </tr>\n",
              "    <tr>\n",
              "      <th>903</th>\n",
              "      <td>2.213696</td>\n",
              "      <td>3.312255</td>\n",
              "      <td>1</td>\n",
              "    </tr>\n",
              "    <tr>\n",
              "      <th>904</th>\n",
              "      <td>3.033878</td>\n",
              "      <td>3.187417</td>\n",
              "      <td>1</td>\n",
              "    </tr>\n",
              "  </tbody>\n",
              "</table>\n",
              "</div>"
            ],
            "text/plain": [
              "     feature_1  feature_2  target\n",
              "900   1.699768   2.139033       1\n",
              "901   1.367739   2.025577       1\n",
              "902   1.795683   1.803557       1\n",
              "903   2.213696   3.312255       1\n",
              "904   3.033878   3.187417       1"
            ]
          },
          "execution_count": 15,
          "metadata": {},
          "output_type": "execute_result"
        }
      ],
      "source": [
        "df_minority.head()"
      ]
    },
    {
      "cell_type": "code",
      "execution_count": null,
      "id": "d082a661-bd09-4ec7-9e35-6b92f71ccae9",
      "metadata": {
        "id": "d082a661-bd09-4ec7-9e35-6b92f71ccae9",
        "outputId": "fd74be7f-dc65-45f1-a4c9-96a3b3ecb4ef"
      },
      "outputs": [
        {
          "data": {
            "text/html": [
              "<div>\n",
              "<style scoped>\n",
              "    .dataframe tbody tr th:only-of-type {\n",
              "        vertical-align: middle;\n",
              "    }\n",
              "\n",
              "    .dataframe tbody tr th {\n",
              "        vertical-align: top;\n",
              "    }\n",
              "\n",
              "    .dataframe thead th {\n",
              "        text-align: right;\n",
              "    }\n",
              "</style>\n",
              "<table border=\"1\" class=\"dataframe\">\n",
              "  <thead>\n",
              "    <tr style=\"text-align: right;\">\n",
              "      <th></th>\n",
              "      <th>feature_1</th>\n",
              "      <th>feature_2</th>\n",
              "      <th>target</th>\n",
              "    </tr>\n",
              "  </thead>\n",
              "  <tbody>\n",
              "    <tr>\n",
              "      <th>0</th>\n",
              "      <td>-1.085631</td>\n",
              "      <td>0.551302</td>\n",
              "      <td>0</td>\n",
              "    </tr>\n",
              "    <tr>\n",
              "      <th>1</th>\n",
              "      <td>0.997345</td>\n",
              "      <td>0.419589</td>\n",
              "      <td>0</td>\n",
              "    </tr>\n",
              "    <tr>\n",
              "      <th>2</th>\n",
              "      <td>0.282978</td>\n",
              "      <td>1.815652</td>\n",
              "      <td>0</td>\n",
              "    </tr>\n",
              "    <tr>\n",
              "      <th>3</th>\n",
              "      <td>-1.506295</td>\n",
              "      <td>-0.252750</td>\n",
              "      <td>0</td>\n",
              "    </tr>\n",
              "    <tr>\n",
              "      <th>4</th>\n",
              "      <td>-0.578600</td>\n",
              "      <td>-0.292004</td>\n",
              "      <td>0</td>\n",
              "    </tr>\n",
              "  </tbody>\n",
              "</table>\n",
              "</div>"
            ],
            "text/plain": [
              "   feature_1  feature_2  target\n",
              "0  -1.085631   0.551302       0\n",
              "1   0.997345   0.419589       0\n",
              "2   0.282978   1.815652       0\n",
              "3  -1.506295  -0.252750       0\n",
              "4  -0.578600  -0.292004       0"
            ]
          },
          "execution_count": 16,
          "metadata": {},
          "output_type": "execute_result"
        }
      ],
      "source": [
        "df_majority.head()"
      ]
    },
    {
      "cell_type": "code",
      "execution_count": null,
      "id": "ce7db05d-ee22-4af2-ab9b-c3b645a7644e",
      "metadata": {
        "id": "ce7db05d-ee22-4af2-ab9b-c3b645a7644e"
      },
      "outputs": [],
      "source": [
        "##Upsampling perform\n",
        "from sklearn.utils import resample"
      ]
    },
    {
      "cell_type": "code",
      "execution_count": null,
      "id": "11a70381-993b-409a-baab-d34b286a8a60",
      "metadata": {
        "id": "11a70381-993b-409a-baab-d34b286a8a60"
      },
      "outputs": [],
      "source": [
        "df_minority_upsample=resample(df_minority,\n",
        "                             replace=True, ## Sample With replacement\n",
        "                              n_samples=len(df_majority), # to match the majority class)\n",
        "                              random_state=42\n",
        "                             )"
      ]
    },
    {
      "cell_type": "code",
      "execution_count": null,
      "id": "72008b28-d3c6-4c10-ae64-3db7bba92de1",
      "metadata": {
        "id": "72008b28-d3c6-4c10-ae64-3db7bba92de1",
        "outputId": "a2123921-f140-4776-cdf0-5b563bb9b801"
      },
      "outputs": [
        {
          "data": {
            "text/plain": [
              "(900, 3)"
            ]
          },
          "execution_count": 19,
          "metadata": {},
          "output_type": "execute_result"
        }
      ],
      "source": [
        "df_minority_upsample.shape"
      ]
    },
    {
      "cell_type": "code",
      "execution_count": null,
      "id": "de8a5853-1d5a-4cda-854e-9122565fb503",
      "metadata": {
        "id": "de8a5853-1d5a-4cda-854e-9122565fb503",
        "outputId": "e121092a-ca28-4fb1-e246-b41ad616b3ec"
      },
      "outputs": [
        {
          "data": {
            "text/plain": [
              "(900, 3)"
            ]
          },
          "execution_count": 22,
          "metadata": {},
          "output_type": "execute_result"
        }
      ],
      "source": [
        "df_minority_upsample.shape"
      ]
    },
    {
      "cell_type": "code",
      "execution_count": null,
      "id": "eb16b728-c730-4a95-8ee0-42b5889c5bf6",
      "metadata": {
        "id": "eb16b728-c730-4a95-8ee0-42b5889c5bf6",
        "outputId": "31e81dc4-3b61-41c7-811d-42768fd462d7"
      },
      "outputs": [
        {
          "data": {
            "text/plain": [
              "1    900\n",
              "Name: target, dtype: int64"
            ]
          },
          "execution_count": 24,
          "metadata": {},
          "output_type": "execute_result"
        }
      ],
      "source": [
        "df_minority_upsample['target'].value_counts()"
      ]
    },
    {
      "cell_type": "code",
      "execution_count": null,
      "id": "86fdff48-f76d-4e29-87f6-45b94f7f015e",
      "metadata": {
        "id": "86fdff48-f76d-4e29-87f6-45b94f7f015e"
      },
      "outputs": [],
      "source": [
        "df_upsampled= pd.concat([df_majority,df_minority_upsample])"
      ]
    },
    {
      "cell_type": "code",
      "execution_count": null,
      "id": "b5bfbc93-210f-4121-a7c9-ce35636078b4",
      "metadata": {
        "id": "b5bfbc93-210f-4121-a7c9-ce35636078b4",
        "outputId": "716dca6e-c27f-4a15-bb28-7b90b7fb70ec"
      },
      "outputs": [
        {
          "data": {
            "text/plain": [
              "0    900\n",
              "1    900\n",
              "Name: target, dtype: int64"
            ]
          },
          "execution_count": 26,
          "metadata": {},
          "output_type": "execute_result"
        }
      ],
      "source": [
        "df_upsampled['target'].value_counts()"
      ]
    },
    {
      "cell_type": "code",
      "execution_count": null,
      "id": "431d3c60-0bcc-44f1-be9b-96bf53d07084",
      "metadata": {
        "id": "431d3c60-0bcc-44f1-be9b-96bf53d07084",
        "outputId": "dab5d5c6-e8b2-4c17-dad0-6b96b0a507b1"
      },
      "outputs": [
        {
          "data": {
            "text/plain": [
              "(1800, 3)"
            ]
          },
          "execution_count": 30,
          "metadata": {},
          "output_type": "execute_result"
        }
      ],
      "source": [
        "df_upsampled.shape"
      ]
    },
    {
      "cell_type": "markdown",
      "id": "346deb7d-5473-4911-ad3b-2ce336651864",
      "metadata": {
        "id": "346deb7d-5473-4911-ad3b-2ce336651864"
      },
      "source": [
        "## DownSampling"
      ]
    },
    {
      "cell_type": "code",
      "execution_count": null,
      "id": "2c0b82fd-f154-46f6-8764-ae226b1edb2b",
      "metadata": {
        "id": "2c0b82fd-f154-46f6-8764-ae226b1edb2b"
      },
      "outputs": [],
      "source": [
        "class_0 = pd.DataFrame({\n",
        "    'feature_1': np.random.normal(loc=0, scale=1, size=n_class_0),\n",
        "    'feature_2': np.random.normal(loc=0, scale=1, size=n_class_0),\n",
        "    'target': [0] * n_class_0\n",
        "})\n",
        "\n",
        "class_1 = pd.DataFrame({\n",
        "    'feature_1': np.random.normal(loc=2, scale=1, size=n_class_1),\n",
        "    'feature_2': np.random.normal(loc=2, scale=1, size=n_class_1),\n",
        "    'target': [1] * n_class_1\n",
        "})"
      ]
    },
    {
      "cell_type": "code",
      "execution_count": null,
      "id": "ac968e0b-170f-4ff4-8a97-a7976afa0721",
      "metadata": {
        "id": "ac968e0b-170f-4ff4-8a97-a7976afa0721"
      },
      "outputs": [],
      "source": [
        "df=pd.concat([class_0,class_1]).reset_index(drop=True)"
      ]
    },
    {
      "cell_type": "code",
      "execution_count": null,
      "id": "df696778-19ab-43d8-967e-4a7b838bc3a9",
      "metadata": {
        "id": "df696778-19ab-43d8-967e-4a7b838bc3a9"
      },
      "outputs": [],
      "source": [
        "df_minority=df[df['target']==1]\n",
        "df_majority=df[df['target']==0]"
      ]
    },
    {
      "cell_type": "code",
      "execution_count": null,
      "id": "c2e81ccf-791d-400e-85de-34d88a4b6576",
      "metadata": {
        "id": "c2e81ccf-791d-400e-85de-34d88a4b6576"
      },
      "outputs": [],
      "source": [
        "df_majority_downsample=resample(df_majority,\n",
        "                             replace=False, ## Sample Without replacement\n",
        "                              n_samples=len(df_minority), # to match the minority class)\n",
        "                              random_state=42\n",
        "                             )"
      ]
    },
    {
      "cell_type": "code",
      "execution_count": null,
      "id": "4d9aa89f-c08b-4b5f-b9c1-81d06e5aaa4c",
      "metadata": {
        "id": "4d9aa89f-c08b-4b5f-b9c1-81d06e5aaa4c",
        "outputId": "6403aaed-be94-4d32-ad2c-5db483ed8d9e"
      },
      "outputs": [
        {
          "data": {
            "text/plain": [
              "(100, 3)"
            ]
          },
          "execution_count": 35,
          "metadata": {},
          "output_type": "execute_result"
        }
      ],
      "source": [
        "df_majority_downsample.shape"
      ]
    },
    {
      "cell_type": "code",
      "execution_count": null,
      "id": "cdd56820-3ec1-43da-bb8e-1a0a2489a49c",
      "metadata": {
        "id": "cdd56820-3ec1-43da-bb8e-1a0a2489a49c"
      },
      "outputs": [],
      "source": [
        "df_downsample=pd.concat([df_minority,df_majority_downsample])"
      ]
    },
    {
      "cell_type": "code",
      "execution_count": null,
      "id": "c565aaf1-d1c8-42cf-aec1-e2664a93d617",
      "metadata": {
        "id": "c565aaf1-d1c8-42cf-aec1-e2664a93d617",
        "outputId": "5a44cec7-bcca-45eb-8c61-37e16b23fa69"
      },
      "outputs": [
        {
          "data": {
            "text/plain": [
              "1    100\n",
              "0    100\n",
              "Name: target, dtype: int64"
            ]
          },
          "execution_count": 39,
          "metadata": {},
          "output_type": "execute_result"
        }
      ],
      "source": [
        "df_downsample['target'].value_counts()"
      ]
    },
    {
      "cell_type": "code",
      "execution_count": null,
      "id": "fb3fd4f6-2c16-4d62-a82b-8f708b5ec3a1",
      "metadata": {
        "id": "fb3fd4f6-2c16-4d62-a82b-8f708b5ec3a1"
      },
      "outputs": [],
      "source": []
    }
  ],
  "metadata": {
    "kernelspec": {
      "display_name": "Python 3 (ipykernel)",
      "language": "python",
      "name": "python3"
    },
    "language_info": {
      "codemirror_mode": {
        "name": "ipython",
        "version": 3
      },
      "file_extension": ".py",
      "mimetype": "text/x-python",
      "name": "python",
      "nbconvert_exporter": "python",
      "pygments_lexer": "ipython3",
      "version": "3.10.8"
    },
    "colab": {
      "provenance": []
    }
  },
  "nbformat": 4,
  "nbformat_minor": 5
}